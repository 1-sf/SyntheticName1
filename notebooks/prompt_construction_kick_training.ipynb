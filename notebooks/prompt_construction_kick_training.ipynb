{
 "cells": [
  {
   "cell_type": "code",
   "execution_count": 2,
   "metadata": {},
   "outputs": [],
   "source": [
    "import pandas as pd\n",
    "\n",
    "df = pd.read_csv(\"../data/scored/politics_tasklevel_uniform1000.csv\")"
   ]
  },
  {
   "cell_type": "code",
   "execution_count": 3,
   "metadata": {},
   "outputs": [],
   "source": [
    "def get_prompt(paragraph: str, tags: str) -> str:\n",
    "    return {\n",
    "        \"instruction\": \"An entity is a person (person), organization (organization), politician (politician), political party (politicalparty), event (event), election (election), country (country), location (location), or other political entity (misc). Dates, times, abstract concepts, adjectives, and verbs are not entities.\\n\\nFor each potential entity in the text, determine if it is an entity and, if so, its type. Provide the reason for your decision. Format your response as a YAML list, with each item containing the following fields:\\n\\nspan: The text span of the potential entity.\\nentity_type: The type of the entity (person, organization, politician, politicalparty, event, election, country, location, misc) or false if not an entity.\\nreason: A brief explanation of why the span is or is not an entity.\",\n",
    "        \"context\": paragraph,\n",
    "        \"response\": tags\n",
    "    }"
   ]
  },
  {
   "cell_type": "code",
   "execution_count": 4,
   "metadata": {},
   "outputs": [],
   "source": [
    "import re\n",
    "import yaml\n",
    "from collections import OrderedDict\n",
    "from collections import OrderedDict\n",
    "import yaml\n",
    "import json\n",
    "\n",
    "def represent_ordereddict(dumper, data):\n",
    "    value = []\n",
    "    for item_key, item_value in data.items():\n",
    "        node_key = dumper.represent_data(item_key)\n",
    "        node_value = dumper.represent_data(item_value)\n",
    "        value.append((node_key, node_value))\n",
    "    return yaml.nodes.MappingNode(u'tag:yaml.org,2002:map', value)\n",
    "\n",
    "yaml.add_representer(OrderedDict, represent_ordereddict)\n",
    "\n",
    "def parse_text_to_json(text):\n",
    "    try:\n",
    "        lines = text.split('\\n')\n",
    "        yaml_data = []\n",
    "\n",
    "        for line in lines:\n",
    "            parts = line.split('|')\n",
    "            if len(parts) == 3:\n",
    "                span = parts[0].split('.')[1].strip()\n",
    "                entity_type = parts[1].strip().lower() == 'true'\n",
    "                reason = parts[2].strip()\n",
    "\n",
    "                if entity_type:\n",
    "                    entity_type_match = re.search(r'\\((\\w+)\\)', reason)\n",
    "                    if entity_type_match:\n",
    "                        entity_type = entity_type_match.group(1)\n",
    "                    else:\n",
    "                        entity_type = 'misc'\n",
    "                else:\n",
    "                    entity_type = 'false'\n",
    "\n",
    "                yaml_data.append(OrderedDict([\n",
    "                    ('span', span),\n",
    "                    ('entity_type', entity_type),\n",
    "                    ('reason', reason)\n",
    "                ]))\n",
    "        return json.dumps(yaml_data)\n",
    "    except:\n",
    "        return \"ERROR\""
   ]
  },
  {
   "cell_type": "code",
   "execution_count": 5,
   "metadata": {},
   "outputs": [],
   "source": [
    "df['prompt'] = df.apply(lambda x: get_prompt(x[\"tokens\"],parse_text_to_json(x[\"output\"])),axis=1)\n",
    "df[\"foutput\"] = df['output'].apply(lambda x: parse_text_to_json(x))"
   ]
  },
  {
   "cell_type": "code",
   "execution_count": 6,
   "metadata": {},
   "outputs": [],
   "source": [
    "df = df[df[\"foutput\"].apply(len)>5] #for empty tags"
   ]
  },
  {
   "cell_type": "code",
   "execution_count": 8,
   "metadata": {},
   "outputs": [],
   "source": [
    "df[\"inference_prompt\"] = df.apply(lambda x:f\"### INSTRUCTION: {x['prompt']['instruction']} ### PARAGRAPH: {x['prompt']['context']}  ### TAG_SPANS: \",axis=1)"
   ]
  },
  {
   "cell_type": "code",
   "execution_count": 9,
   "metadata": {},
   "outputs": [],
   "source": [
    "df['prompt'].to_json('../data/1k_draft.jsonl', orient='records', lines=True)"
   ]
  },
  {
   "cell_type": "code",
   "execution_count": null,
   "metadata": {},
   "outputs": [],
   "source": [
    "!firectl create fine-tuning-job --settings-file ./config.yaml --display-name \"My Job 3\""
   ]
  }
 ],
 "metadata": {
  "kernelspec": {
   "display_name": "mach",
   "language": "python",
   "name": "python3"
  },
  "language_info": {
   "codemirror_mode": {
    "name": "ipython",
    "version": 3
   },
   "file_extension": ".py",
   "mimetype": "text/x-python",
   "name": "python",
   "nbconvert_exporter": "python",
   "pygments_lexer": "ipython3",
   "version": "3.10.4"
  }
 },
 "nbformat": 4,
 "nbformat_minor": 2
}
